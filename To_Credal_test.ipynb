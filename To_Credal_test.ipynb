{
 "cells": [
  {
   "cell_type": "code",
   "execution_count": 1,
   "metadata": {
    "ExecuteTime": {
     "end_time": "2019-12-18T18:24:20.247778Z",
     "start_time": "2019-12-18T18:24:19.637599Z"
    }
   },
   "outputs": [],
   "source": [
    "import numpy as np\n",
    "import pandas as pd"
   ]
  },
  {
   "cell_type": "code",
   "execution_count": 2,
   "metadata": {
    "ExecuteTime": {
     "end_time": "2019-12-18T18:24:20.253223Z",
     "start_time": "2019-12-18T18:24:20.250362Z"
    }
   },
   "outputs": [],
   "source": [
    "from importlib import reload"
   ]
  },
  {
   "cell_type": "code",
   "execution_count": 3,
   "metadata": {
    "ExecuteTime": {
     "end_time": "2019-12-18T18:24:20.267065Z",
     "start_time": "2019-12-18T18:24:20.255405Z"
    }
   },
   "outputs": [],
   "source": [
    "import pdb\n",
    "try: c45 = reload(c45)\n",
    "except: import c45"
   ]
  },
  {
   "cell_type": "code",
   "execution_count": 4,
   "metadata": {
    "ExecuteTime": {
     "end_time": "2019-12-18T18:24:21.270509Z",
     "start_time": "2019-12-18T18:24:20.441198Z"
    }
   },
   "outputs": [],
   "source": [
    "from sklearn.metrics import accuracy_score"
   ]
  },
  {
   "cell_type": "code",
   "execution_count": 5,
   "metadata": {
    "ExecuteTime": {
     "end_time": "2019-12-18T18:24:21.290389Z",
     "start_time": "2019-12-18T18:24:21.273250Z"
    }
   },
   "outputs": [
    {
     "data": {
      "text/html": [
       "<style>.container { width:90% !important; }</style>"
      ],
      "text/plain": [
       "<IPython.core.display.HTML object>"
      ]
     },
     "metadata": {},
     "output_type": "display_data"
    }
   ],
   "source": [
    "from IPython.core.display import display, HTML\n",
    "display(HTML(\"<style>.container { width:90% !important; }</style>\"))"
   ]
  },
  {
   "cell_type": "code",
   "execution_count": 6,
   "metadata": {
    "ExecuteTime": {
     "end_time": "2019-12-18T18:24:21.304258Z",
     "start_time": "2019-12-18T18:24:21.294201Z"
    }
   },
   "outputs": [],
   "source": [
    "def encode_classes(l, classes):\n",
    "    classes = np.array(classes)\n",
    "    return [np.argmax([x==classes]) for x in l]"
   ]
  },
  {
   "cell_type": "markdown",
   "metadata": {},
   "source": [
    "# Trying imprecise method"
   ]
  },
  {
   "cell_type": "code",
   "execution_count": 63,
   "metadata": {
    "ExecuteTime": {
     "end_time": "2019-12-18T19:08:56.480284Z",
     "start_time": "2019-12-18T19:08:56.165618Z"
    }
   },
   "outputs": [],
   "source": [
    "import math\n",
    "import numpy as np\n",
    "class C45_credal:\n",
    "    \"\"\"Creates a decision tree with C4.5 algorithm\"\"\"\n",
    "    def __init__(self, pathToData,pathToNames, min_node_size=1, s=0, max_height=None):\n",
    "        self.filePathToData = pathToData\n",
    "        self.filePathToNames = pathToNames\n",
    "        self.data = []\n",
    "        self.classes = []\n",
    "        self.numAttributes = -1 \n",
    "        self.attrValues = {}\n",
    "        self.attributes = []\n",
    "        self.tree = None\n",
    "        self.min_node_size = min_node_size\n",
    "        self.s = s\n",
    "        self.max_height = max_height\n",
    "\n",
    "    def predict(self, x):\n",
    "        cur_node = self.tree\n",
    "        while not cur_node.isLeaf:\n",
    "            xidx = np.argmax(np.array(self.attributes)==cur_node.label)\n",
    "            t = cur_node.threshold if cur_node.threshold is not None else 0\n",
    "            if x[xidx]<=t:\n",
    "                cur_node = cur_node.children[0]\n",
    "            else:\n",
    "                cur_node = cur_node.children[1]\n",
    "        return cur_node.label\n",
    "    \n",
    "    def predict_list(self, xs):\n",
    "        ps = [self.predict(x) for x in xs]\n",
    "        return ps\n",
    "            \n",
    "\n",
    "    def fetchData(self):\n",
    "        with open(self.filePathToNames, \"r\") as file:\n",
    "            classes = file.readline()\n",
    "            self.classes = [x.strip() for x in classes.split(\",\")]\n",
    "            #add attributes\n",
    "            for line in file:\n",
    "                [attribute, values] = [x.strip() for x in line.split(\":\")]\n",
    "                values = [x.strip() for x in values.split(\",\")]\n",
    "                self.attrValues[attribute] = values\n",
    "        self.numAttributes = len(self.attrValues.keys())\n",
    "        self.attributes = list(self.attrValues.keys())\n",
    "        with open(self.filePathToData, \"r\") as file:\n",
    "            for line in file:\n",
    "                row = [x.strip() for x in line.split(\",\")]\n",
    "                if row != [] or row != [\"\"]:\n",
    "                    self.data.append(row)\n",
    "                    \n",
    "    def fetchDataSet(self, ds, y_feat):\n",
    "        self.classes = list(ds[y_feat].unique())\n",
    "        for f in ds.drop(y_feat,1):\n",
    "            self.attrValues[f] = list(ds[f].unique())        \n",
    "        \n",
    "        self.numAttributes = len(self.attrValues.keys())\n",
    "        self.attributes = list(self.attrValues.keys())\n",
    "        self.ds = ds\n",
    "\n",
    "    def preprocessData(self):\n",
    "        for index,row in enumerate(self.data):\n",
    "            for attr_index in range(self.numAttributes):\n",
    "                if(not self.isAttrDiscrete(self.attributes[attr_index])):\n",
    "                    self.data[index][attr_index] = float(self.data[index][attr_index])\n",
    "\n",
    "    def printTree(self):\n",
    "        self.printNode(self.tree)\n",
    "\n",
    "    def printNode(self, node, indent=\"\"):\n",
    "        if not node.isLeaf:\n",
    "            if node.threshold is None:\n",
    "                #discrete\n",
    "                for index,child in enumerate(node.children):\n",
    "                    if child.isLeaf:\n",
    "                        print(indent + node.label + \" = \" + self.attributes[index] + \" : \" + child.label)\n",
    "                    else:\n",
    "                        print(indent + node.label + \" = \" + self.attributes[index] + \" : \")\n",
    "                        self.printNode(child, indent + \"\t\")\n",
    "            else:\n",
    "                #numerical\n",
    "                leftChild = node.children[0]\n",
    "                rightChild = node.children[1]\n",
    "                if leftChild.isLeaf:\n",
    "                    print(indent + node.label + \" <= \" + str(node.threshold) + \" : \" + leftChild.label)\n",
    "                else:\n",
    "                    print(indent + node.label + \" <= \" + str(node.threshold)+\" : \")\n",
    "                    self.printNode(leftChild, indent + \"\t\")\n",
    "\n",
    "                if rightChild.isLeaf:\n",
    "                    print(indent + node.label + \" > \" + str(node.threshold) + \" : \" + rightChild.label)\n",
    "                else:\n",
    "                    print(indent + node.label + \" > \" + str(node.threshold) + \" : \")\n",
    "                    self.printNode(rightChild , indent + \"\t\")\n",
    "\n",
    "    def generateTree(self, data, attributes):\n",
    "        self.tree = self.recursiveGenerateTree(data, attributes, 0)\n",
    "\n",
    "    def recursiveGenerateTree(self, curData, curAttributes, height):\n",
    "        if len(curData) == 0:\n",
    "            #Fail\n",
    "            return None#Node(True, \"Fail\", None)\n",
    "        allSame = self.allSameClass(curData)\n",
    "        majClass = self.getMajClass(curData)\n",
    "        if allSame is not False:\n",
    "            #return a node with that class\n",
    "            return Node(True, allSame, None)\n",
    "        elif self.max_height is not None and height>=self.max_height:\n",
    "            return Node(True, allSame, None)\n",
    "        elif len(curAttributes) == 0:\n",
    "            #return a node with the majority class\n",
    "            return Node(True, majClass, None)\n",
    "        else:\n",
    "            (best,best_threshold,splitted) = self.splitAttribute(curData, curAttributes)\n",
    "            if best is None and best_threshold is None and splitted is None:\n",
    "                return Node(True, majClass, None)\n",
    "            \n",
    "            remainingAttributes = curAttributes[:]\n",
    "            remainingAttributes.remove(best)\n",
    "            node = Node(False, best, best_threshold)\n",
    "            children = [self.recursiveGenerateTree(subset, remainingAttributes, height+1) for subset in splitted]\n",
    "            node.children = [n if n is not None else Node(True, majClass, None) for n in children]\n",
    "            return node    \n",
    "        return node\n",
    "\n",
    "    def getMajClass(self, curData):\n",
    "        freq = [0]*len(self.classes)\n",
    "        for row in curData:\n",
    "            index = self.classes.index(row[-1])\n",
    "            freq[index] += 1\n",
    "        maxInd = freq.index(max(freq))\n",
    "        return self.classes[maxInd]\n",
    "\n",
    "    def allSameClass(self, data):\n",
    "        for row in data:\n",
    "            if row[-1] != data[0][-1]:\n",
    "                return False\n",
    "        return data[0][-1]\n",
    "\n",
    "    def isAttrDiscrete(self, attribute):\n",
    "        assert attribute in self.attributes, \"Attribute note listed\"\n",
    "        if len(self.attrValues[attribute]) == 1 and self.attrValues[attribute][0] == \"continuous\":\n",
    "            return False\n",
    "        return True\n",
    "\n",
    "    def splitAttribute(self, curData, curAttributes):\n",
    "        splitted = []\n",
    "        maxEnt = -1*float(\"inf\")\n",
    "        best_attribute = -1\n",
    "        #None for discrete attributes, threshold value for continuous attributes\n",
    "        best_threshold = None\n",
    "        M = {}\n",
    "        for attribute in curAttributes:\n",
    "            indexOfAttribute = self.attributes.index(attribute)\n",
    "            if self.isAttrDiscrete(attribute):\n",
    "                #split curData into n-subsets, where n is the number of \n",
    "                #different values of attribute i. Choose the attribute with\n",
    "                #the max gain\n",
    "                valuesForAttribute = self.attrValues[attribute]\n",
    "                subsets = [[] for a in valuesForAttribute]\n",
    "                for row in curData:\n",
    "                    for index in range(len(valuesForAttribute)):\n",
    "                        if row[indexOfAttribute] == valuesForAttribute[index]:\n",
    "                            subsets[index].append(row)\n",
    "                            break\n",
    "                if self.s==0:\n",
    "                    e = self.gain(curData, subsets)\n",
    "                else:\n",
    "                    e = self.imprecise_gain(curData, subsets)\n",
    "                #if e > maxEnt:\n",
    "                #    maxEnt = e\n",
    "                #    splitted = subsets\n",
    "                #    best_attribute = attribute\n",
    "                #    best_threshold = None\n",
    "                M[(indexOfAttribute, None)] = (e, subsets)\n",
    "            else:\n",
    "                #sort the data according to the column.Then try all \n",
    "                #possible adjacent pairs. Choose the one that \n",
    "                #yields maximum gain\n",
    "                curData.sort(key = lambda x: x[indexOfAttribute])\n",
    "                for j in range(0, len(curData) - 1):\n",
    "                    if curData[j][indexOfAttribute] != curData[j+1][indexOfAttribute]:\n",
    "                        threshold = (curData[j][indexOfAttribute] + curData[j+1][indexOfAttribute]) / 2\n",
    "                        less = []\n",
    "                        greater = []\n",
    "                        for row in curData:\n",
    "                            if(row[indexOfAttribute] > threshold):\n",
    "                                greater.append(row)\n",
    "                            else:\n",
    "                                less.append(row)\n",
    "                        if self.s==0:\n",
    "                            e = self.gain(curData, [less, greater])\n",
    "                        else:\n",
    "                            e = self.imprecise_gain(curData, [less, greater])\n",
    "                        M[(indexOfAttribute, threshold)] = (e, [less,greater])\n",
    "        avg_e = np.mean([v[0] for v in M.values()])\n",
    "        M = {k:v for k,v in M.items() if v[0]>avg_e}\n",
    "        \n",
    "        if len(M)==0:\n",
    "            return None, None, None\n",
    "        try:\n",
    "            entrs = {k:self.entropy_attribute_subsets(v[1],k[0])\n",
    "                     for k,v in M.items()}\n",
    "            igsr = {k:v[0]/entrs[k] if entrs[k]>0 else 0\n",
    "                    for k,v in M.items()\n",
    "                   }\n",
    "        except Exception as e:\n",
    "            print(M)\n",
    "            raise e\n",
    "        \n",
    "        alpha = max(igsr.values())\n",
    "        best_attribute_idx, best_threshold = {v:k for k,v in igsr.items()}[alpha]\n",
    "        best_attribute = self.attributes[best_attribute_idx]\n",
    "        splitted = M[(best_attribute_idx, best_threshold)][1]\n",
    "        #print(best_attribute, best_threshold, )\n",
    "        return (best_attribute,best_threshold,splitted)\n",
    "\n",
    "    def gain(self,unionSet, subsets):\n",
    "        #input : data and disjoint subsets of it\n",
    "        #output : information gain\n",
    "        S = len(unionSet)\n",
    "        #calculate impurity before split\n",
    "        impurityBeforeSplit = self.entropy(unionSet)\n",
    "        #calculate impurity after split\n",
    "        weights = [len(subset)/S for subset in subsets]            \n",
    "        impurityAfterSplit = sum([weights[i]*self.entropy(subsets[i]) for i in range(len(subsets))])\n",
    "        #calculate total gain\n",
    "        totalGain = impurityBeforeSplit - impurityAfterSplit\n",
    "        return totalGain\n",
    "    \n",
    "    def imprecise_gain(self, unionSet, subsets):\n",
    "        S = len(unionSet)\n",
    "        impurityBeforeSplit = self.hstar(self.get_K(unionSet))\n",
    "        weights = self.get_pd(subsets)\n",
    "        impurityAfterSplit = sum([p*self.hstar(self.get_K(subs)) for p,subs in zip(weights, subsets)])\n",
    "        totalGain = impurityBeforeSplit - impurityAfterSplit\n",
    "        return totalGain\n",
    "    \n",
    "    def get_K(self, curData):\n",
    "        ps = [0]*len(self.classes)\n",
    "        for row in curData:\n",
    "            ps[self.classes.index(row[-1])]+=1\n",
    "        N = len(curData)\n",
    "        ps = [(p/(N+self.s),(p+self.s)/(N+self.s)) for p in ps]\n",
    "        return ps    \n",
    "\n",
    "    def hstar(self, K):\n",
    "        return max([-k_*self.log(k_) for k in K for k_ in np.linspace(k[0],k[1],10)])\n",
    "\n",
    "    def get_B(self, subsets):\n",
    "        maxEnt = -1*float(\"inf\")\n",
    "        B = []\n",
    "        for idx,s in enumerate(subsets):\n",
    "            e = self.entropy(s)\n",
    "            if e==maxEnt:\n",
    "                B.append(idx)\n",
    "            if e>maxEnt:\n",
    "                maxEnt = e\n",
    "                B = [idx]\n",
    "        return B\n",
    "\n",
    "    def get_pd(self, subsets):\n",
    "        s = self.s\n",
    "        B = self.get_B(subsets)\n",
    "        N = sum([len(subs) for subs in subsets])\n",
    "        pds = [len(subs)/(N+s) if idx not in B else (len(subs)+s/len(B))/(N+s)\n",
    "               for idx,subs in enumerate(subsets)]\n",
    "        return pds\n",
    "\n",
    "    def entropy(self, dataSet):\n",
    "        S = len(dataSet)\n",
    "        if S == 0:\n",
    "            return 0\n",
    "        num_classes = [0]*len(self.classes)# [0 for i in self.classes]\n",
    "        for row in dataSet:\n",
    "            #print(row)\n",
    "            classIndex = list(self.classes).index(row[-1])\n",
    "            num_classes[classIndex] += 1\n",
    "        num_classes = [x/S for x in num_classes]\n",
    "        ent = -1*sum([num*self.log(num) for num in num_classes])\n",
    "        return ent\n",
    "\n",
    "    def log(self, x):\n",
    "        return math.log(x,2) if x!=0 else 0\n",
    "    \n",
    "    def entropy_attribute(self, data, attribute_idx):\n",
    "        value_counts = {}\n",
    "        for row in data:\n",
    "            value_counts[row[attribute_idx]] = value_counts.get(row[attribute_idx],0)+1\n",
    "        e = -sum([v/len(data)*self.log(v/len(data)) for v in value_counts.values()])\n",
    "        return e\n",
    "    \n",
    "    def entropy_attribute_subsets(self, subsets, attribute_idx):\n",
    "        try:\n",
    "            attribute = self.attributes[attribute_idx]\n",
    "            if self.attrValues[attribute]!=['continuous']:\n",
    "                return self.entropy_attribute([y for x in subsets for y in x], attribute_idx)\n",
    "        except Exception as e:\n",
    "            print(attribute_idx)\n",
    "            #print(attribute)\n",
    "            raise e\n",
    "        vs = [len(s) for s in subsets]\n",
    "        N = sum(vs)\n",
    "        e = -sum([v/N*self.log(v/N) for v in vs])\n",
    "        return e\n",
    "    \n",
    "\n",
    "class Node:\n",
    "    def __init__(self,isLeaf, label, threshold, height=None):\n",
    "        self.label = label\n",
    "        self.threshold = threshold\n",
    "        self.isLeaf = isLeaf\n",
    "        self.children = []\n",
    "        self.height = height"
   ]
  },
  {
   "cell_type": "code",
   "execution_count": 64,
   "metadata": {
    "ExecuteTime": {
     "end_time": "2019-12-18T19:08:56.790724Z",
     "start_time": "2019-12-18T19:08:56.778134Z"
    }
   },
   "outputs": [],
   "source": [
    "with open(\"datasets/hepatitis.names_short_very\",'r') as f:\n",
    "    columns = []\n",
    "    real_columns = []\n",
    "    cat_columns = []\n",
    "    for l in f.readlines():\n",
    "        n,t = [x.strip().replace(' ','_') for x in  l.split(':')]\n",
    "        if n=='y_feat':\n",
    "            y_feat = t\n",
    "            continue\n",
    "        columns.append(n)\n",
    "        if t=='categorical':\n",
    "            cat_columns.append(n)\n",
    "        elif t=='continuous':\n",
    "            real_columns.append(n)\n",
    "        else:\n",
    "            raise Exception(f\"Unknown datatype for columns {n}={t}\")"
   ]
  },
  {
   "cell_type": "code",
   "execution_count": 65,
   "metadata": {
    "ExecuteTime": {
     "end_time": "2019-12-18T19:08:58.135025Z",
     "start_time": "2019-12-18T19:08:57.958738Z"
    }
   },
   "outputs": [],
   "source": [
    "ds = pd.read_csv('datasets/hepatitis.data', header=None)\n",
    "ds.columns = columns\n",
    "ds_new = ds.copy()\n",
    "for f in real_columns:\n",
    "    if f==y_feat:\n",
    "        continue\n",
    "    ds_new[f] = ds_new[f].replace('?',np.nan).astype(float)\n",
    "    ds_new[f] = ds_new[f].fillna(ds_new[f].mean())\n",
    "for f in cat_columns:\n",
    "    if f==y_feat:\n",
    "        continue\n",
    "    for v in ds_new[f].unique():\n",
    "        ds_new[f\"{f}__{v}\"] = (ds_new[f]==v).astype(int)\n",
    "    ds_new = ds_new.drop(f,1)\n",
    "ds_new = pd.concat([ds_new.drop(y_feat,1), ds_new[[y_feat]]],1)\n",
    "#ds_new = pd.concat([ds_new.iloc[:,1:],ds_new.iloc[:,0]],1)\n",
    "#ds[0] -= 1\n",
    "ds_new.to_csv('datasets/hepatitis.data_new', header=None, index=None)"
   ]
  },
  {
   "cell_type": "code",
   "execution_count": 66,
   "metadata": {
    "ExecuteTime": {
     "end_time": "2019-12-18T19:09:04.986663Z",
     "start_time": "2019-12-18T19:08:59.767249Z"
    },
    "scrolled": false
   },
   "outputs": [],
   "source": [
    "#c1 = c45.C45(\"baris/data/iris/iris.data\", \"baris/data/iris/iris.names\")\n",
    "c2 = C45_credal(\"datasets/hepatitis.data_new\", \"datasets/hepatitis.names_short\", s=1)\n",
    "c2.fetchDataSet(ds_new, y_feat)\n",
    "all_data = [[y for y in x] for x in ds_new.values]\n",
    "#c2.preprocessData()\n",
    "#all_data = c2.data\n",
    "train_data, test_data = all_data[:int(len(all_data)*0.8)], all_data[int(len(all_data)*0.8):]\n",
    "c2.generateTree(train_data, c2.attributes)\n",
    "#c2.printTree()"
   ]
  },
  {
   "cell_type": "code",
   "execution_count": 67,
   "metadata": {
    "ExecuteTime": {
     "end_time": "2019-12-18T19:09:05.003066Z",
     "start_time": "2019-12-18T19:09:04.988826Z"
    }
   },
   "outputs": [],
   "source": [
    "trues = [x[-1] for x in test_data]\n",
    "preds = c2.predict_list(test_data)"
   ]
  },
  {
   "cell_type": "code",
   "execution_count": 68,
   "metadata": {
    "ExecuteTime": {
     "end_time": "2019-12-18T19:09:05.013032Z",
     "start_time": "2019-12-18T19:09:05.006384Z"
    }
   },
   "outputs": [
    {
     "data": {
      "text/plain": [
       "0.5806451612903226"
      ]
     },
     "execution_count": 68,
     "metadata": {},
     "output_type": "execute_result"
    }
   ],
   "source": [
    "accuracy_score(trues, preds)"
   ]
  },
  {
   "cell_type": "code",
   "execution_count": null,
   "metadata": {},
   "outputs": [],
   "source": []
  },
  {
   "cell_type": "code",
   "execution_count": 69,
   "metadata": {
    "ExecuteTime": {
     "end_time": "2019-12-18T19:09:05.376193Z",
     "start_time": "2019-12-18T19:09:05.015963Z"
    },
    "scrolled": false
   },
   "outputs": [],
   "source": [
    "c3 = C45_credal(\"datasets/hepatitis.data_new\", \"datasets/hepatitis.names_short\", s=0)\n",
    "c3.fetchDataSet(ds_new, y_feat)\n",
    "all_data = [[y for y in x] for x in ds_new.values]\n",
    "train_data, test_data = all_data[:int(len(all_data)*0.8)], all_data[int(len(all_data)*0.8):]\n",
    "c3.generateTree(train_data, c3.attributes)"
   ]
  },
  {
   "cell_type": "code",
   "execution_count": 70,
   "metadata": {
    "ExecuteTime": {
     "end_time": "2019-12-18T19:09:05.388372Z",
     "start_time": "2019-12-18T19:09:05.378344Z"
    }
   },
   "outputs": [],
   "source": [
    "trues = [x[-1] for x in test_data]\n",
    "preds = c3.predict_list(test_data)"
   ]
  },
  {
   "cell_type": "code",
   "execution_count": 71,
   "metadata": {
    "ExecuteTime": {
     "end_time": "2019-12-18T19:09:05.397356Z",
     "start_time": "2019-12-18T19:09:05.391035Z"
    }
   },
   "outputs": [
    {
     "data": {
      "text/plain": [
       "0.5806451612903226"
      ]
     },
     "execution_count": 71,
     "metadata": {},
     "output_type": "execute_result"
    }
   ],
   "source": [
    "accuracy_score(trues, preds)"
   ]
  },
  {
   "cell_type": "code",
   "execution_count": null,
   "metadata": {},
   "outputs": [],
   "source": []
  },
  {
   "cell_type": "code",
   "execution_count": 72,
   "metadata": {
    "ExecuteTime": {
     "end_time": "2019-12-18T19:09:07.265759Z",
     "start_time": "2019-12-18T19:09:07.260474Z"
    }
   },
   "outputs": [],
   "source": [
    "from tqdm import tqdm_notebook"
   ]
  },
  {
   "cell_type": "code",
   "execution_count": 73,
   "metadata": {
    "ExecuteTime": {
     "end_time": "2019-12-18T19:09:07.724703Z",
     "start_time": "2019-12-18T19:09:07.720054Z"
    }
   },
   "outputs": [],
   "source": [
    "from sklearn.model_selection import KFold"
   ]
  },
  {
   "cell_type": "code",
   "execution_count": 91,
   "metadata": {
    "ExecuteTime": {
     "end_time": "2019-12-18T19:46:34.371774Z",
     "start_time": "2019-12-18T19:30:09.778105Z"
    }
   },
   "outputs": [
    {
     "data": {
      "application/vnd.jupyter.widget-view+json": {
       "model_id": "01c35cd19d43488581832c7eab77ce3a",
       "version_major": 2,
       "version_minor": 0
      },
      "text/plain": [
       "HBox(children=(IntProgress(value=0, max=5), HTML(value='')))"
      ]
     },
     "metadata": {},
     "output_type": "display_data"
    },
    {
     "name": "stdout",
     "output_type": "stream",
     "text": [
      "\n"
     ]
    }
   ],
   "source": [
    "acs = []\n",
    "res_ds = []\n",
    "for s in tqdm_notebook([0,0.25,0.5,0.75,1.0]):\n",
    "    c3 = C45_credal(\"datasets/hepatitis.data_new\", \"datasets/hepatitis.names_short\", s=s)\n",
    "    c3.fetchDataSet(ds_new, y_feat)\n",
    "    all_data = [[y for y in x] for x in ds_new.values]\n",
    "    kf = KFold(n_splits=10)\n",
    "    \n",
    "    for i,idxs in enumerate(kf.split(all_data)):\n",
    "        train_index, test_index = idxs\n",
    "        for noise_level in [0, 0.05, 0.1, 0.3]:\n",
    "            train_data = [all_data[idx] for idx in train_index]\n",
    "            test_data = [all_data[idx] for idx in test_index]\n",
    "            train_data_noise = [x[:-1]+[x[-1] if np.random.rand()>=noise_level\n",
    "                                        else np.random.choice(c3.classes)] for x in train_data]\n",
    "\n",
    "            res = {'s':s, 'dataframe':'hepatitis'}\n",
    "            #train_data, test_data = all_data[:int(len(all_data)*0.8)], all_data[int(len(all_data)*0.8):]\n",
    "            c3.generateTree(train_data_noise, c3.attributes)\n",
    "            trues = [x[-1] for x in test_data]\n",
    "            preds = c3.predict_list(test_data)\n",
    "            res = {'s':s, 'dataframe':'hepatitis', 'fold':i,\n",
    "                   'acc':accuracy_score(trues, preds),'noise_level':noise_level}\n",
    "            res_ds.append(res)"
   ]
  },
  {
   "cell_type": "code",
   "execution_count": 92,
   "metadata": {
    "ExecuteTime": {
     "end_time": "2019-12-18T19:46:34.383196Z",
     "start_time": "2019-12-18T19:46:34.375328Z"
    }
   },
   "outputs": [],
   "source": [
    "res_ds = pd.DataFrame(res_ds)"
   ]
  },
  {
   "cell_type": "code",
   "execution_count": 93,
   "metadata": {
    "ExecuteTime": {
     "end_time": "2019-12-18T19:46:34.397190Z",
     "start_time": "2019-12-18T19:46:34.387103Z"
    }
   },
   "outputs": [],
   "source": [
    "res_ds.to_csv('Hepatitis_results.csv')"
   ]
  },
  {
   "cell_type": "code",
   "execution_count": 94,
   "metadata": {
    "ExecuteTime": {
     "end_time": "2019-12-18T19:46:34.422938Z",
     "start_time": "2019-12-18T19:46:34.400642Z"
    }
   },
   "outputs": [
    {
     "data": {
      "text/html": [
       "<div>\n",
       "<style scoped>\n",
       "    .dataframe tbody tr th:only-of-type {\n",
       "        vertical-align: middle;\n",
       "    }\n",
       "\n",
       "    .dataframe tbody tr th {\n",
       "        vertical-align: top;\n",
       "    }\n",
       "\n",
       "    .dataframe thead th {\n",
       "        text-align: right;\n",
       "    }\n",
       "</style>\n",
       "<table border=\"1\" class=\"dataframe\">\n",
       "  <thead>\n",
       "    <tr style=\"text-align: right;\">\n",
       "      <th></th>\n",
       "      <th>s</th>\n",
       "      <th>dataframe</th>\n",
       "      <th>fold</th>\n",
       "      <th>acc</th>\n",
       "      <th>noise_level</th>\n",
       "    </tr>\n",
       "  </thead>\n",
       "  <tbody>\n",
       "    <tr>\n",
       "      <td>0</td>\n",
       "      <td>0.0</td>\n",
       "      <td>hepatitis</td>\n",
       "      <td>0</td>\n",
       "      <td>0.937500</td>\n",
       "      <td>0.00</td>\n",
       "    </tr>\n",
       "    <tr>\n",
       "      <td>1</td>\n",
       "      <td>0.0</td>\n",
       "      <td>hepatitis</td>\n",
       "      <td>0</td>\n",
       "      <td>0.937500</td>\n",
       "      <td>0.05</td>\n",
       "    </tr>\n",
       "    <tr>\n",
       "      <td>2</td>\n",
       "      <td>0.0</td>\n",
       "      <td>hepatitis</td>\n",
       "      <td>0</td>\n",
       "      <td>0.875000</td>\n",
       "      <td>0.10</td>\n",
       "    </tr>\n",
       "    <tr>\n",
       "      <td>3</td>\n",
       "      <td>0.0</td>\n",
       "      <td>hepatitis</td>\n",
       "      <td>0</td>\n",
       "      <td>0.625000</td>\n",
       "      <td>0.30</td>\n",
       "    </tr>\n",
       "    <tr>\n",
       "      <td>4</td>\n",
       "      <td>0.0</td>\n",
       "      <td>hepatitis</td>\n",
       "      <td>1</td>\n",
       "      <td>0.875000</td>\n",
       "      <td>0.00</td>\n",
       "    </tr>\n",
       "    <tr>\n",
       "      <td>...</td>\n",
       "      <td>...</td>\n",
       "      <td>...</td>\n",
       "      <td>...</td>\n",
       "      <td>...</td>\n",
       "      <td>...</td>\n",
       "    </tr>\n",
       "    <tr>\n",
       "      <td>195</td>\n",
       "      <td>1.0</td>\n",
       "      <td>hepatitis</td>\n",
       "      <td>8</td>\n",
       "      <td>0.733333</td>\n",
       "      <td>0.30</td>\n",
       "    </tr>\n",
       "    <tr>\n",
       "      <td>196</td>\n",
       "      <td>1.0</td>\n",
       "      <td>hepatitis</td>\n",
       "      <td>9</td>\n",
       "      <td>0.733333</td>\n",
       "      <td>0.00</td>\n",
       "    </tr>\n",
       "    <tr>\n",
       "      <td>197</td>\n",
       "      <td>1.0</td>\n",
       "      <td>hepatitis</td>\n",
       "      <td>9</td>\n",
       "      <td>0.733333</td>\n",
       "      <td>0.05</td>\n",
       "    </tr>\n",
       "    <tr>\n",
       "      <td>198</td>\n",
       "      <td>1.0</td>\n",
       "      <td>hepatitis</td>\n",
       "      <td>9</td>\n",
       "      <td>0.533333</td>\n",
       "      <td>0.10</td>\n",
       "    </tr>\n",
       "    <tr>\n",
       "      <td>199</td>\n",
       "      <td>1.0</td>\n",
       "      <td>hepatitis</td>\n",
       "      <td>9</td>\n",
       "      <td>0.600000</td>\n",
       "      <td>0.30</td>\n",
       "    </tr>\n",
       "  </tbody>\n",
       "</table>\n",
       "<p>200 rows × 5 columns</p>\n",
       "</div>"
      ],
      "text/plain": [
       "       s  dataframe  fold       acc  noise_level\n",
       "0    0.0  hepatitis     0  0.937500         0.00\n",
       "1    0.0  hepatitis     0  0.937500         0.05\n",
       "2    0.0  hepatitis     0  0.875000         0.10\n",
       "3    0.0  hepatitis     0  0.625000         0.30\n",
       "4    0.0  hepatitis     1  0.875000         0.00\n",
       "..   ...        ...   ...       ...          ...\n",
       "195  1.0  hepatitis     8  0.733333         0.30\n",
       "196  1.0  hepatitis     9  0.733333         0.00\n",
       "197  1.0  hepatitis     9  0.733333         0.05\n",
       "198  1.0  hepatitis     9  0.533333         0.10\n",
       "199  1.0  hepatitis     9  0.600000         0.30\n",
       "\n",
       "[200 rows x 5 columns]"
      ]
     },
     "execution_count": 94,
     "metadata": {},
     "output_type": "execute_result"
    }
   ],
   "source": [
    "res_ds"
   ]
  },
  {
   "cell_type": "code",
   "execution_count": 98,
   "metadata": {
    "ExecuteTime": {
     "end_time": "2019-12-18T19:46:50.760003Z",
     "start_time": "2019-12-18T19:46:50.714571Z"
    }
   },
   "outputs": [
    {
     "data": {
      "text/html": [
       "<div>\n",
       "<style scoped>\n",
       "    .dataframe tbody tr th:only-of-type {\n",
       "        vertical-align: middle;\n",
       "    }\n",
       "\n",
       "    .dataframe tbody tr th {\n",
       "        vertical-align: top;\n",
       "    }\n",
       "\n",
       "    .dataframe thead th {\n",
       "        text-align: right;\n",
       "    }\n",
       "</style>\n",
       "<table border=\"1\" class=\"dataframe\">\n",
       "  <thead>\n",
       "    <tr style=\"text-align: right;\">\n",
       "      <th>noise_level</th>\n",
       "      <th>0.00</th>\n",
       "      <th>0.05</th>\n",
       "      <th>0.10</th>\n",
       "      <th>0.30</th>\n",
       "    </tr>\n",
       "    <tr>\n",
       "      <th>s</th>\n",
       "      <th></th>\n",
       "      <th></th>\n",
       "      <th></th>\n",
       "      <th></th>\n",
       "    </tr>\n",
       "  </thead>\n",
       "  <tbody>\n",
       "    <tr>\n",
       "      <td>0.00</td>\n",
       "      <td>0.771250</td>\n",
       "      <td>0.747500</td>\n",
       "      <td>0.663750</td>\n",
       "      <td>0.682917</td>\n",
       "    </tr>\n",
       "    <tr>\n",
       "      <td>0.25</td>\n",
       "      <td>0.733333</td>\n",
       "      <td>0.738750</td>\n",
       "      <td>0.700417</td>\n",
       "      <td>0.639167</td>\n",
       "    </tr>\n",
       "    <tr>\n",
       "      <td>0.50</td>\n",
       "      <td>0.760000</td>\n",
       "      <td>0.758750</td>\n",
       "      <td>0.759167</td>\n",
       "      <td>0.727083</td>\n",
       "    </tr>\n",
       "    <tr>\n",
       "      <td>0.75</td>\n",
       "      <td>0.741250</td>\n",
       "      <td>0.725833</td>\n",
       "      <td>0.764583</td>\n",
       "      <td>0.737500</td>\n",
       "    </tr>\n",
       "    <tr>\n",
       "      <td>1.00</td>\n",
       "      <td>0.791667</td>\n",
       "      <td>0.784167</td>\n",
       "      <td>0.778333</td>\n",
       "      <td>0.746250</td>\n",
       "    </tr>\n",
       "  </tbody>\n",
       "</table>\n",
       "</div>"
      ],
      "text/plain": [
       "noise_level      0.00      0.05      0.10      0.30\n",
       "s                                                  \n",
       "0.00         0.771250  0.747500  0.663750  0.682917\n",
       "0.25         0.733333  0.738750  0.700417  0.639167\n",
       "0.50         0.760000  0.758750  0.759167  0.727083\n",
       "0.75         0.741250  0.725833  0.764583  0.737500\n",
       "1.00         0.791667  0.784167  0.778333  0.746250"
      ]
     },
     "execution_count": 98,
     "metadata": {},
     "output_type": "execute_result"
    }
   ],
   "source": [
    "cds = res_ds.pivot_table(index='s',columns='noise_level',values='acc',aggfunc='mean')\n",
    "cds"
   ]
  },
  {
   "cell_type": "code",
   "execution_count": 101,
   "metadata": {
    "ExecuteTime": {
     "end_time": "2019-12-18T19:47:19.075710Z",
     "start_time": "2019-12-18T19:47:18.726254Z"
    }
   },
   "outputs": [
    {
     "data": {
      "text/plain": [
       "(-0.5, 5.5)"
      ]
     },
     "execution_count": 101,
     "metadata": {},
     "output_type": "execute_result"
    },
    {
     "data": {
      "image/png": "[encoded data removed]",
      "text/plain": [
       "<Figure size 432x288 with 2 Axes>"
      ]
     },
     "metadata": {
      "needs_background": "light"
     },
     "output_type": "display_data"
    }
   ],
   "source": [
    "sns.heatmap(cds, cmap='Blues', annot=True)\n",
    "plt.ylim(-0.5,5.5)"
   ]
  },
  {
   "cell_type": "code",
   "execution_count": 96,
   "metadata": {
    "ExecuteTime": {
     "end_time": "2019-12-18T19:46:34.486200Z",
     "start_time": "2019-12-18T19:46:34.454605Z"
    }
   },
   "outputs": [
    {
     "data": {
      "text/html": [
       "<div>\n",
       "<style scoped>\n",
       "    .dataframe tbody tr th:only-of-type {\n",
       "        vertical-align: middle;\n",
       "    }\n",
       "\n",
       "    .dataframe tbody tr th {\n",
       "        vertical-align: top;\n",
       "    }\n",
       "\n",
       "    .dataframe thead th {\n",
       "        text-align: right;\n",
       "    }\n",
       "</style>\n",
       "<table border=\"1\" class=\"dataframe\">\n",
       "  <thead>\n",
       "    <tr style=\"text-align: right;\">\n",
       "      <th>noise_level</th>\n",
       "      <th>0.00</th>\n",
       "      <th>0.05</th>\n",
       "      <th>0.10</th>\n",
       "      <th>0.30</th>\n",
       "    </tr>\n",
       "    <tr>\n",
       "      <th>s</th>\n",
       "      <th></th>\n",
       "      <th></th>\n",
       "      <th></th>\n",
       "      <th></th>\n",
       "    </tr>\n",
       "  </thead>\n",
       "  <tbody>\n",
       "    <tr>\n",
       "      <td>0.00</td>\n",
       "      <td>0.143176</td>\n",
       "      <td>0.255308</td>\n",
       "      <td>0.306363</td>\n",
       "      <td>0.233857</td>\n",
       "    </tr>\n",
       "    <tr>\n",
       "      <td>0.25</td>\n",
       "      <td>0.137381</td>\n",
       "      <td>0.171369</td>\n",
       "      <td>0.122592</td>\n",
       "      <td>0.235171</td>\n",
       "    </tr>\n",
       "    <tr>\n",
       "      <td>0.50</td>\n",
       "      <td>0.101497</td>\n",
       "      <td>0.128282</td>\n",
       "      <td>0.152624</td>\n",
       "      <td>0.133438</td>\n",
       "    </tr>\n",
       "    <tr>\n",
       "      <td>0.75</td>\n",
       "      <td>0.114049</td>\n",
       "      <td>0.132489</td>\n",
       "      <td>0.149178</td>\n",
       "      <td>0.203443</td>\n",
       "    </tr>\n",
       "    <tr>\n",
       "      <td>1.00</td>\n",
       "      <td>0.112748</td>\n",
       "      <td>0.130626</td>\n",
       "      <td>0.134884</td>\n",
       "      <td>0.125730</td>\n",
       "    </tr>\n",
       "  </tbody>\n",
       "</table>\n",
       "</div>"
      ],
      "text/plain": [
       "noise_level      0.00      0.05      0.10      0.30\n",
       "s                                                  \n",
       "0.00         0.143176  0.255308  0.306363  0.233857\n",
       "0.25         0.137381  0.171369  0.122592  0.235171\n",
       "0.50         0.101497  0.128282  0.152624  0.133438\n",
       "0.75         0.114049  0.132489  0.149178  0.203443\n",
       "1.00         0.112748  0.130626  0.134884  0.125730"
      ]
     },
     "execution_count": 96,
     "metadata": {},
     "output_type": "execute_result"
    }
   ],
   "source": [
    "cds = res_ds.pivot_table(index='s',columns='noise_level',values='acc',aggfunc='std')\n",
    "cds"
   ]
  },
  {
   "cell_type": "code",
   "execution_count": 82,
   "metadata": {
    "ExecuteTime": {
     "end_time": "2019-12-18T19:27:14.282420Z",
     "start_time": "2019-12-18T19:27:14.209805Z"
    }
   },
   "outputs": [],
   "source": [
    "import seaborn as sns"
   ]
  },
  {
   "cell_type": "code",
   "execution_count": 97,
   "metadata": {
    "ExecuteTime": {
     "end_time": "2019-12-18T19:46:34.735651Z",
     "start_time": "2019-12-18T19:46:34.488074Z"
    }
   },
   "outputs": [
    {
     "data": {
      "text/plain": [
       "<matplotlib.axes._subplots.AxesSubplot at 0x7f42e451ef60>"
      ]
     },
     "execution_count": 97,
     "metadata": {},
     "output_type": "execute_result"
    },
    {
     "data": {
      "image/png": "[encoded data removed]",
      "text/plain": [
       "<Figure size 432x288 with 2 Axes>"
      ]
     },
     "metadata": {
      "needs_background": "light"
     },
     "output_type": "display_data"
    }
   ],
   "source": [
    "sns.heatmap(cds, cmap='Blues', annot=True)"
   ]
  },
  {
   "cell_type": "code",
   "execution_count": null,
   "metadata": {},
   "outputs": [],
   "source": []
  },
  {
   "cell_type": "code",
   "execution_count": 19,
   "metadata": {
    "ExecuteTime": {
     "end_time": "2019-12-18T18:28:43.298781Z",
     "start_time": "2019-12-18T18:28:43.026996Z"
    }
   },
   "outputs": [],
   "source": [
    "import matplotlib.pyplot as plt"
   ]
  },
  {
   "cell_type": "code",
   "execution_count": 20,
   "metadata": {
    "ExecuteTime": {
     "end_time": "2019-12-18T18:28:43.501972Z",
     "start_time": "2019-12-18T18:28:43.301364Z"
    }
   },
   "outputs": [
    {
     "data": {
      "text/plain": [
       "[<matplotlib.lines.Line2D at 0x7f42e6e054e0>]"
      ]
     },
     "execution_count": 20,
     "metadata": {},
     "output_type": "execute_result"
    },
    {
     "data": {
      "image/png": "[encoded data removed]",
      "text/plain": [
       "<Figure size 432x288 with 1 Axes>"
      ]
     },
     "metadata": {
      "needs_background": "light"
     },
     "output_type": "display_data"
    }
   ],
   "source": [
    "plt.plot([0,0.25,0.5,0.75,1], acs)"
   ]
  }
 ],
 "metadata": {
  "kernelspec": {
   "display_name": "Python 3",
   "language": "python",
   "name": "python3"
  },
  "language_info": {
   "codemirror_mode": {
    "name": "ipython",
    "version": 3
   },
   "file_extension": ".py",
   "mimetype": "text/x-python",
   "name": "python",
   "nbconvert_exporter": "python",
   "pygments_lexer": "ipython3",
   "version": "3.6.7"
  }
 },
 "nbformat": 4,
 "nbformat_minor": 2
}
